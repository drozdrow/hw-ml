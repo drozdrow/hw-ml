{
 "cells": [
  {
   "cell_type": "markdown",
   "id": "0cf75ab4-bd4d-4ec2-a708-74797dbfce44",
   "metadata": {},
   "source": [
    "# Úkol č. 2 - regrese\n",
    "\n",
    "* Termíny jsou uvedeny na [courses.fit.cvut.cz](https://courses.fit.cvut.cz/BI-ML1/homeworks/index.html).\n",
    "* Pokud odevzdáte úkol po prvním termínu ale před nejzazším termínem, budete penalizování -12 body, pozdější odevzdání je bez bodu.\n",
    "* V rámci tohoto úkolu se musíte vypořádat s regresní úlohou, s příznaky různých typů a s chybějícími hodnotami.\n",
    "* Před tím, než na nich postavíte predikční model, je třeba je nějakým způsobem převést do číselné reprezentace.\n",
    "    \n",
    "> **Úkoly jsou zadány tak, aby Vám daly prostor pro invenci. Vymyslet _jak přesně_ budete úkol řešit, je důležitou součástí zadání a originalita či nápaditost bude také hodnocena!**\n",
    "\n",
    "Využívejte buňky typu `Markdown` k vysvětlování Vašeho postupu. Za nepřehlednost budeme strhávat body.\n",
    "\n",
    "## Zdroj dat\n",
    "\n",
    "Budeme se zabývat predikcí délky dožití v různých zemích a letech.\n",
    "K dispozici máte trénovací data v souboru `data.csv` a data na vyhodnocení v souboru `evaluation.csv`.\n",
    "\n",
    "#### Seznam příznaků:\n",
    "\n",
    "* Year - Rok\n",
    "* Status - Status rozvinuté nebo rozvojové země\n",
    "* Life expectancy - Délka dožití v letech - **cílová proměnná, kterou budete predikovat**\n",
    "* Adult Mortality - Úmrtnost dospělých bez ohledu na pohlaví (pravděpodobnost, že osoby, které dosáhly věku 15 let, zemřou před dosažením věku 60 let (uvedeno na 1 000 osob)).\n",
    "* infant deaths - počet zemřelých kojenců na 1000 obyvatel\n",
    "* Alcohol - Alkohol, zaznamenaná spotřeba na obyvatele (15+) (v litrech čistého alkoholu)\n",
    "* percentage expenditure - Výdaje na zdravotnictví v procentech hrubého domácího produktu na obyvatele (%)\n",
    "* Hepatitis B - pokrytí očkováním proti hepatitidě B (HepB) u dětí ve věku 1 roku (%)\n",
    "* Measles - Spalničky - počet hlášených případů na 1000 obyvatel\n",
    "* BMI - průměrný index tělesné hmotnosti celé populace\n",
    "* under-five deaths - počet úmrtí dětí do pěti let na 1000 obyvatel\n",
    "* Polio - proočkovanost proti dětské obrně (Pol3) u dětí ve věku 1 roku (%)\n",
    "* Total expenditure - Výdaje vládních institucí na zdravotnictví jako procento celkových vládních výdajů (%)\n",
    "* Diphtheria - pokrytí očkováním proti záškrtu, tetanu a černému kašli (DTP3) u jednoletých dětí (%)\n",
    "* HIV/AIDS - počet úmrtí na 1 000 živě narozených dětí na HIV/AIDS (0-4 roky)\n",
    "* GDP - hrubý domácí produkt na obyvatele (v USD)\n",
    "* Population - počet obyvatel země\n",
    "* thinness 1-19 years - podíl dětí ve věku 10-19 let s indexem tělesné hmotnosti (BMI) menším než 2 směrodatné odchylky pod mediánem (%)\n",
    "* thinness 5-9 years - podíl dětí ve věku 5-9 let s indexem tělesné hmotnosti (BMI) menším než 2 směrodatné odchylky pod mediánem (%)\n",
    "* Income composition of resources - Index lidského rozvoje z hlediska příjmového složení zdrojů (index v rozmezí 0 až 1)\n",
    "* Schooling - počet let školní docházky (roky)\n",
    "\n",
    "\n",
    "## Pokyny k vypracování\n",
    "\n",
    "**Body zadání**, za jejichž (poctivé) vypracování získáte **25 bodů**: \n",
    "  * V notebooku načtěte data ze souboru `data.csv`. Vhodným způsobem si je rozdělte na podmnožiny, které Vám poslouží pro trénování (trénovací), porovnávání modelů (validační) a následnou predikci výkonnosti finálního modelu (testovací).\n",
    "    \n",
    "  * Proveďte základní předzpracování dat:\n",
    "    * Projděte si jednotlivé příznaky a transformujte je do vhodné podoby pro použití ve vybraném regresním modelu.\n",
    "    * Nějakým způsobem se vypořádejte s chybějícími hodnotami. _Pozor na metodické chyby!_\n",
    "    * Můžete využívat i vizualizace. Vše stručně ale náležitě komentujte.\n",
    "<br /><br />\n",
    "  * Vytvořte **vlastní implementaci náhodného lesa**. Použijte k tomu níže předpřipravenou kostru.\n",
    "  \n",
    "  * Na připravená data postupně aplikujte Vaši předchozí implementaci modelu náhodného lesa, dále jeden z modelů **lineární regrese** nebo **hřebenové regrese**, a alespoň jeden další model podle Vašeho uvážení, přičemž pro každý z těchto modelů přiměřeně:\n",
    "    * Okomentujte vhodnost daného modelu pro daný typ úlohy.\n",
    "    * Experimentujte s normalizací (standardizace/min-max), pokud pro daný model očekáváte její příznivý vliv.\n",
    "    * Vyberte si hlavní hyperparametry k ladění a najděte jejich nejlepší hodnoty (vzhledem k RMSE).\n",
    "    * Pro model s nejlepšími hodnotami hyperparametrů určete jeho chybu pomocí RMSE a MAE. _Pozor na metodické chyby!_\n",
    "    * Získané výsledky vždy řádně okomentujte.\n",
    "<br /><br />\n",
    "  * Ze všech zkoušených možností v předchozím kroku vyberte finální model a odhadněte, jakou chybu (RMSE) můžete očekávat na nových datech, která jste doposud neměli k dispozici. _Pozor na metodické chyby!_\n",
    "    \n",
    "  * Nakonec načtěte vyhodnocovací data ze souboru `evaluation.csv`. Pomocí finálního modelu napočítejte predikce pro tato data. Vytvořte soubor `results.csv`, ve kterém získané predikce uložíte s využitím tří sloupců: **Country**, **Year** a **Life expectancy**. Tento soubor též odevzdejte (uložte do repozitáře vedle notebooku).\n",
    "\n",
    "  * Ukázka prvních řádků souboru `results.csv`:\n",
    "  \n",
    "```\n",
    "Country,Year,Life expectancy\n",
    "Peru,2012,71.4\n",
    "Peru,2013,72.6\n",
    "...\n",
    "```\n",
    "\n",
    "\n",
    "## Poznámky k odevzdání\n",
    "\n",
    "  * Řiďte se pokyny ze stránky https://courses.fit.cvut.cz/BI-ML1/homeworks/index.html."
   ]
  },
  {
   "cell_type": "markdown",
   "id": "b9818ec1",
   "metadata": {},
   "source": [
    "# 1️⃣ Předzpracování dat"
   ]
  },
  {
   "cell_type": "markdown",
   "id": "fbf612b3",
   "metadata": {},
   "source": [
    "Import balíčků"
   ]
  },
  {
   "cell_type": "code",
   "execution_count": 1,
   "id": "8ae27698",
   "metadata": {},
   "outputs": [],
   "source": [
    "import math\n",
    "import pandas as pd\n",
    "import numpy as np\n",
    "import seaborn as sns\n",
    "from sklearn.model_selection import train_test_split, ParameterGrid\n",
    "import sklearn.metrics as metrics\n",
    "import matplotlib.pyplot as plt"
   ]
  },
  {
   "cell_type": "code",
   "execution_count": 2,
   "id": "23647a52",
   "metadata": {},
   "outputs": [
    {
     "name": "stdout",
     "output_type": "stream",
     "text": [
      "<class 'pandas.core.frame.DataFrame'>\n",
      "RangeIndex: 2718 entries, 0 to 2717\n",
      "Data columns (total 22 columns):\n",
      " #   Column                           Non-Null Count  Dtype  \n",
      "---  ------                           --------------  -----  \n",
      " 0   Country                          2718 non-null   object \n",
      " 1   Year                             2718 non-null   int64  \n",
      " 2   Status                           2718 non-null   object \n",
      " 3   Life expectancy                  2718 non-null   float64\n",
      " 4   Adult Mortality                  2718 non-null   float64\n",
      " 5   infant deaths                    2718 non-null   int64  \n",
      " 6   Alcohol                          2564 non-null   float64\n",
      " 7   percentage expenditure           2718 non-null   float64\n",
      " 8   Hepatitis B                      2188 non-null   float64\n",
      " 9   Measles                          2718 non-null   int64  \n",
      " 10  BMI                              2692 non-null   float64\n",
      " 11  under-five deaths                2718 non-null   int64  \n",
      " 12  Polio                            2700 non-null   float64\n",
      " 13  Total expenditure                2529 non-null   float64\n",
      " 14  Diphtheria                       2700 non-null   float64\n",
      " 15  HIV/AIDS                         2718 non-null   float64\n",
      " 16  GDP                              2317 non-null   float64\n",
      " 17  Population                       2116 non-null   float64\n",
      " 18  thinness  1-19 years             2692 non-null   float64\n",
      " 19  thinness 5-9 years               2692 non-null   float64\n",
      " 20  Income composition of resources  2576 non-null   float64\n",
      " 21  Schooling                        2576 non-null   float64\n",
      "dtypes: float64(16), int64(4), object(2)\n",
      "memory usage: 467.3+ KB\n"
     ]
    }
   ],
   "source": [
    "df = pd.read_csv('data.csv')\n",
    "df.info()"
   ]
  },
  {
   "cell_type": "code",
   "execution_count": 3,
   "id": "ebe6d2ff",
   "metadata": {},
   "outputs": [
    {
     "data": {
      "text/plain": [
       "Country                              0\n",
       "Year                                 0\n",
       "Status                               0\n",
       "Life expectancy                      0\n",
       "Adult Mortality                      0\n",
       "infant deaths                        0\n",
       "Alcohol                            154\n",
       "percentage expenditure               0\n",
       "Hepatitis B                        530\n",
       "Measles                              0\n",
       "BMI                                 26\n",
       "under-five deaths                    0\n",
       "Polio                               18\n",
       "Total expenditure                  189\n",
       "Diphtheria                          18\n",
       "HIV/AIDS                             0\n",
       "GDP                                401\n",
       "Population                         602\n",
       "thinness  1-19 years                26\n",
       "thinness 5-9 years                  26\n",
       "Income composition of resources    142\n",
       "Schooling                          142\n",
       "dtype: int64"
      ]
     },
     "execution_count": 3,
     "metadata": {},
     "output_type": "execute_result"
    }
   ],
   "source": [
    "df.isnull().sum()"
   ]
  },
  {
   "cell_type": "markdown",
   "id": "6f8eb25f",
   "metadata": {},
   "source": [
    "Vidíme, že příznaky `Alcohol`, `Hepatitis B`, `BMI`, `Polio`, `Total expenditure`, `Diphtheria`, `GDP`, `Population`, `thinness  1-19 years`, `thinness 5-9 years`, `Income composition of resources`, `Schooling` mají chybějící hodnoty, doplníme je."
   ]
  },
  {
   "cell_type": "markdown",
   "id": "1a70012b",
   "metadata": {},
   "source": [
    "Než tak uděláme, přeložíme si příznaky `Country` a `Status` z typu Object na typ numerický.\n",
    "`Country` zakódujeme jako jedinečný klíč záznamu a `Status` zakódujeme binárně, protože má pouze dvě hodnoty."
   ]
  },
  {
   "cell_type": "code",
   "execution_count": 4,
   "id": "a34c3c18",
   "metadata": {},
   "outputs": [
    {
     "name": "stdout",
     "output_type": "stream",
     "text": [
      "<class 'pandas.core.frame.DataFrame'>\n",
      "Int64Index: 2718 entries, 0 to 182\n",
      "Data columns (total 21 columns):\n",
      " #   Column                           Non-Null Count  Dtype  \n",
      "---  ------                           --------------  -----  \n",
      " 0   Year                             2718 non-null   int64  \n",
      " 1   Life expectancy                  2718 non-null   float64\n",
      " 2   Adult Mortality                  2718 non-null   float64\n",
      " 3   infant deaths                    2718 non-null   int64  \n",
      " 4   Alcohol                          2564 non-null   float64\n",
      " 5   percentage expenditure           2718 non-null   float64\n",
      " 6   Hepatitis B                      2188 non-null   float64\n",
      " 7   Measles                          2718 non-null   int64  \n",
      " 8   BMI                              2692 non-null   float64\n",
      " 9   under-five deaths                2718 non-null   int64  \n",
      " 10  Polio                            2700 non-null   float64\n",
      " 11  Total expenditure                2529 non-null   float64\n",
      " 12  Diphtheria                       2700 non-null   float64\n",
      " 13  HIV/AIDS                         2718 non-null   float64\n",
      " 14  GDP                              2317 non-null   float64\n",
      " 15  Population                       2116 non-null   float64\n",
      " 16  thinness  1-19 years             2692 non-null   float64\n",
      " 17  thinness 5-9 years               2692 non-null   float64\n",
      " 18  Income composition of resources  2576 non-null   float64\n",
      " 19  Schooling                        2576 non-null   float64\n",
      " 20  Status_encoded                   2718 non-null   int64  \n",
      "dtypes: float64(16), int64(5)\n",
      "memory usage: 467.2 KB\n"
     ]
    }
   ],
   "source": [
    "from sklearn.preprocessing import LabelEncoder\n",
    "\n",
    "mapping = {'Developed': 1, 'Developing': 0}\n",
    "df['Status_encoded'] = df['Status'].map(mapping)\n",
    "\n",
    "label_encoder = LabelEncoder()\n",
    "df['Country_encoded'] = label_encoder.fit_transform(df['Country'])\n",
    "df.set_index('Country_encoded', inplace=True)\n",
    "\n",
    "df.drop('Country', axis=1, inplace=True)\n",
    "df.drop('Status', axis=1, inplace=True)\n",
    "\n",
    "df.info()"
   ]
  },
  {
   "cell_type": "markdown",
   "id": "f22a905d",
   "metadata": {},
   "source": [
    "Nyní se budeme zabývat chybějícími hodnotami, ale ještě předtím rozdělíme dataset na podmnožiny, aby se předešlo úniku informací z testovací nebo validační množiny do trénovací množiny(60 % trénovací, 20 % validační a 20 % testovací)."
   ]
  },
  {
   "cell_type": "code",
   "execution_count": 5,
   "id": "a35e0932",
   "metadata": {},
   "outputs": [
    {
     "data": {
      "text/plain": [
       "(1630, 20)"
      ]
     },
     "metadata": {},
     "output_type": "display_data"
    },
    {
     "data": {
      "text/plain": [
       "(1630,)"
      ]
     },
     "metadata": {},
     "output_type": "display_data"
    },
    {
     "data": {
      "text/plain": [
       "(544, 20)"
      ]
     },
     "metadata": {},
     "output_type": "display_data"
    },
    {
     "data": {
      "text/plain": [
       "(544,)"
      ]
     },
     "metadata": {},
     "output_type": "display_data"
    },
    {
     "data": {
      "text/plain": [
       "(544, 20)"
      ]
     },
     "metadata": {},
     "output_type": "display_data"
    },
    {
     "data": {
      "text/plain": [
       "(544,)"
      ]
     },
     "metadata": {},
     "output_type": "display_data"
    }
   ],
   "source": [
    "from sklearn.model_selection import train_test_split\n",
    "\n",
    "X = df.drop('Life expectancy', axis=1)\n",
    "y = df['Life expectancy']\n",
    "\n",
    "Xtrain, Xtest, ytrain, ytest = train_test_split(X, y, test_size=0.4, random_state=322)\n",
    "\n",
    "display(Xtrain.shape)\n",
    "display(ytrain.shape)\n",
    "\n",
    "Xval, Xtest, yval, ytest = train_test_split(Xtest, ytest, test_size=0.5, random_state=322)\n",
    "\n",
    "display(Xval.shape)\n",
    "display(yval.shape)\n",
    "display(Xtest.shape)\n",
    "display(ytest.shape)"
   ]
  },
  {
   "cell_type": "markdown",
   "id": "674dee50",
   "metadata": {},
   "source": [
    "Nyní na základě množiny Xtrain doplníme chybějící hodnoty ve všech množinách pomocí mediánu."
   ]
  },
  {
   "cell_type": "code",
   "execution_count": 6,
   "id": "0ea91b3d",
   "metadata": {},
   "outputs": [
    {
     "data": {
      "text/plain": [
       "(0, 0, 0)"
      ]
     },
     "execution_count": 6,
     "metadata": {},
     "output_type": "execute_result"
    }
   ],
   "source": [
    "medians = Xtrain.median()\n",
    "\n",
    "Xtrain.fillna(medians, inplace=True)\n",
    "Xval.fillna(medians, inplace=True)\n",
    "Xtest.fillna(medians, inplace=True)\n",
    "\n",
    "Xtrain.isnull().sum().sum(), Xval.isnull().sum().sum(), Xtest.isnull().sum().sum()"
   ]
  },
  {
   "cell_type": "markdown",
   "id": "28073593",
   "metadata": {},
   "source": [
    "Použil jsem celkový medián, nikoli medián pro jednotlivé země, protože pokud je počet záznamů pro některé země v datasetu malý, to může vést k nesprávným nebo zkresleným statistikám."
   ]
  },
  {
   "cell_type": "markdown",
   "id": "7e5d95f4",
   "metadata": {},
   "source": [
    "Možná bude potřeba ještě připravit data pro jednotlivé modely, to udělám později."
   ]
  },
  {
   "cell_type": "markdown",
   "id": "40f2d036",
   "metadata": {},
   "source": [
    "# 2️⃣Vlastní implementaci náhodného lesa"
   ]
  },
  {
   "cell_type": "code",
   "execution_count": 7,
   "id": "280dc5d5-087b-4060-bd0a-c950c91f0533",
   "metadata": {},
   "outputs": [],
   "source": [
    "from sklearn.tree import DecisionTreeRegressor\n",
    "from sklearn.utils import resample\n",
    "\n",
    "class CustomRandomForest:\n",
    "    \"\"\"\n",
    "    Třída Vašeho modelu\n",
    "    Bude se jednat o model náhodného lesa, kde podmodely tvoří rozhodovací stromy pro regresi.\n",
    "    Pro podmodely můžete použít implementaci DecisionTreeRegressor ze sklearn.\n",
    "    \"\"\"\n",
    "    def __init__(self, n_estimators= 20, max_samples=0.5, max_depth=None, **kwargs):\n",
    "        \"\"\"\n",
    "        Konstruktor modelu\n",
    "        Základní hyperparametery:\n",
    "            n_estimators - počet podmodelů - rozhodovacích stromů.\n",
    "            max_samples - vyberte si, zda tento parametr bude označovat relativní počet bodů (tj. číslo mezi 0 a 1) \n",
    "                          nebo absolutní počet bodů (tj. číslo mezi 1 a velikostí trénovací množiny), \n",
    "                          které budou pro každý podmodel rozhodovacího stromu náhodně vybrány z trénovací množiny (bootstrap) a použity k jeho trénování.\n",
    "            max_depth - maximální hloubka každého z podmodelů rozhodovacího stromu.\n",
    "            kwargs - (volitelně) případné další hyperparametry, které pošlete do podmodelů rozhodovacího stromu\n",
    "        \"\"\"\n",
    "        self.n_estimators = n_estimators\n",
    "        self.max_samples = max_samples\n",
    "        self.max_depth = max_depth\n",
    "        self.trees = [DecisionTreeRegressor(max_depth=max_depth, **kwargs) for _ in range(n_estimators)]\n",
    "        \n",
    "    def fit(self, X, y):\n",
    "        \"\"\"\n",
    "        Natrénování modelu. Trénovací data jsou v argumentech X a y.\n",
    "        Pro trénování podmodelů používejte bootstraping a velikost samplovaného vzorku vezměte z hyperparametru max_samples_fraction\n",
    "        \"\"\"\n",
    "        n_samples = X.shape[0]\n",
    "        if isinstance(self.max_samples, float):\n",
    "            max_samples = int(self.max_samples * n_samples)\n",
    "        else:\n",
    "            max_samples = self.max_samples\n",
    "        # prohledávání všech stromů\n",
    "        for tree in self.trees:\n",
    "            sampled_X, sampled_y = resample(X, y, n_samples=max_samples)\n",
    "            tree.fit(sampled_X, sampled_y)\n",
    "        return self\n",
    "        \n",
    "    def predict(self, X):\n",
    "        \"\"\"\n",
    "        Predikce y v zadaných bodech X\n",
    "        \"\"\"\n",
    "        ypredicted = np.zeros((X.shape[0],))\n",
    "        for tree in self.trees:\n",
    "            ypredicted += tree.predict(X)\n",
    "        #průměrování hodnot \n",
    "        ypredicted /= self.n_estimators\n",
    "        return ypredicted\n"
   ]
  },
  {
   "cell_type": "markdown",
   "id": "37cf3b8d",
   "metadata": {},
   "source": [
    "# 3️⃣Aplikace modelů"
   ]
  },
  {
   "cell_type": "markdown",
   "id": "9d297344",
   "metadata": {},
   "source": [
    "## 1️⃣ Náhodný les"
   ]
  },
  {
   "cell_type": "markdown",
   "id": "9c885557",
   "metadata": {},
   "source": [
    "#### Vhodnost daného modelu pro daný typ úlohy:\n",
    "\n",
    "**Komplexní Vztahy mezi Příznaky:** Naše data obsahují mnoho různých typů příznaků, jako jsou zdravotní ukazatele, socioekonomické faktory a životní podmínky. Náhodný les je schopen identifikovat a využít jejich komplexní vzájemné vztahy s cílovou proměnnou.\n",
    "\n",
    "**Prevence Přetrénování:** S tak rozsáhlým a detailním datasetem, jako je náš, existuje riziko přetrénování modelu. Náhodný les přirozeně snižuje toto riziko díky metodám bagging a náhodného výběru příznaků při vytváření jednotlivých stromů."
   ]
  },
  {
   "cell_type": "markdown",
   "id": "3088a07d",
   "metadata": {},
   "source": [
    "Rozhodl jsem se nepoužívat standardizaci nebo minmax, protože náhodný les dobře vyhodnocuje důležitost příznaků tak, jak jsou, a normalizace nebo standardizace by mohla tuto interpretaci zkreslit."
   ]
  },
  {
   "cell_type": "code",
   "execution_count": 8,
   "id": "83d4b313",
   "metadata": {},
   "outputs": [
    {
     "name": "stdout",
     "output_type": "stream",
     "text": [
      "The best params: {'n_estimators': 35, 'max_samples': 0.9, 'max_depth': 7} with validation RMSE: 2.13 and MAE: 1.44.\n"
     ]
    }
   ],
   "source": [
    "from sklearn.metrics import mean_squared_error, mean_absolute_error\n",
    "param_grid = {\n",
    "    'n_estimators': range(5, 40, 5),\n",
    "    'max_depth': range(1, 8),\n",
    "    'max_samples': [0.5, 0.7, 0.9]\n",
    "}\n",
    "\n",
    "param_comb = ParameterGrid(param_grid)\n",
    "\n",
    "val_metric_rmse = []\n",
    "val_metric_mae = []\n",
    "\n",
    "for params in param_comb:\n",
    "    model = CustomRandomForest(**params)\n",
    "    model.fit(Xtrain, ytrain)\n",
    "    y_pred = model.predict(Xval)\n",
    "    val_metric_rmse.append(mean_squared_error(yval, y_pred, squared=False))\n",
    "    val_metric_mae.append(mean_absolute_error(yval, y_pred))\n",
    "\n",
    "best_params = param_comb[np.argmin(val_metric_rmse)]\n",
    "best_rmse = min(val_metric_rmse)\n",
    "best_mae = val_metric_mae[np.argmin(val_metric_rmse)]\n",
    "\n",
    "print(f\"The best params: {best_params} with validation RMSE: {best_rmse:.2f} and MAE: {best_mae:.2f}.\")"
   ]
  },
  {
   "cell_type": "markdown",
   "id": "e6b95849",
   "metadata": {},
   "source": [
    "Vysledky ukazujou, že model s těmito nastaveními dosahuje průměrné odchylky předpovědí od skutečných hodnot o 2 roky, což je v kontextu predikce délky dožití považováno za dobře výkonný model.`Spoiler:`Tento model ukázal nejlepší výsledek, takže jsem započítal i MAE.Nízká hodnota MAE znamená, že průměrná absolutní chyba mezi předpověděnými a skutečnými hodnotami je pouze 1.46 roku, což ukazuje na vysokou schopnost modelu přesně předpovídat cílovou proměnnou."
   ]
  },
  {
   "cell_type": "markdown",
   "id": "49af23c3",
   "metadata": {},
   "source": [
    "Vizualizace výsledků pro model s nejlepšími hyperparametry"
   ]
  },
  {
   "cell_type": "code",
   "execution_count": 9,
   "id": "46ce234a",
   "metadata": {},
   "outputs": [
    {
     "data": {
      "image/png": "[encoded data removed]",
      "text/plain": [
       "<Figure size 1000x600 with 1 Axes>"
      ]
     },
     "metadata": {},
     "output_type": "display_data"
    }
   ],
   "source": [
    "best_model = CustomRandomForest(n_estimators=35, max_samples=0.9, max_depth=7)\n",
    "best_model.fit(Xtrain, ytrain)\n",
    "predictions = best_model.predict(Xval)\n",
    "\n",
    "plt.figure(figsize=(10, 6))\n",
    "plt.scatter(yval, predictions, alpha=0.5)\n",
    "plt.plot([yval.min(), yval.max()], [yval.min(), yval.max()], 'k--', lw=2)\n",
    "plt.xlabel('Skutečné hodnoty')\n",
    "plt.ylabel('Předpovědi')\n",
    "plt.title('Skutečné hodnoty vs Předpovědi')\n",
    "plt.show()"
   ]
  },
  {
   "cell_type": "markdown",
   "id": "54f8fff3",
   "metadata": {},
   "source": [
    "Na základě vizualizace můžeme říci, že model náhodného lesa předpovídá délku života s poměrně dobrým stupněm přesnosti. Většina bodů je blízko ideální čáry, což naznačuje, že skutečné hodnoty a předpovědi se v mnoha případech shodují."
   ]
  },
  {
   "cell_type": "markdown",
   "id": "88006681",
   "metadata": {},
   "source": [
    "## 2️⃣ Hřebenová regrese"
   ]
  },
  {
   "cell_type": "markdown",
   "id": "863d30d3",
   "metadata": {},
   "source": [
    "#### Vhodnost daného modelu pro daný typ úlohy:\n",
    "\n",
    "**Stabilizace Odhadů**: V případě, že některé příznaky jsou mezi sebou silně korelované, hřebenová regrese může stabilizovat odhady tím, že \"trestá\" velké koeficienty, což je důležité pro získání spolehlivých predikcí.\n",
    "\n",
    "**Prevence Přetrénování**: Vzhledem k tomu, že délka dožití může být ovlivněna širokou škálou faktorů, model s regulací, jako je hřebenová regrese, může předcházet přetrénování, které by se mohlo vyskytnout u modelů bez regulace"
   ]
  },
  {
   "cell_type": "markdown",
   "id": "559ef80f",
   "metadata": {},
   "source": [
    "Pro hřebenovou regresi se doporučuje **standardizace**. Důvodem je, že hřebenová regrese zahrnuje penalizaci koeficientů a velikost této penalizace je závislá na měřítku proměnných. Standardizace zajistí, že penalizace bude aplikována rovnoměrně na všechny proměnné."
   ]
  },
  {
   "cell_type": "code",
   "execution_count": 10,
   "id": "e948f014",
   "metadata": {},
   "outputs": [],
   "source": [
    "from sklearn.preprocessing import StandardScaler\n",
    "scaler = StandardScaler()\n",
    "\n",
    "\n",
    "Xtrain_scaled = scaler.fit_transform(Xtrain)\n",
    "\n",
    "Xval_scaled = scaler.transform(Xval)\n",
    "Xtest_scaled = scaler.transform(Xtest)"
   ]
  },
  {
   "cell_type": "markdown",
   "id": "f732cc80",
   "metadata": {},
   "source": [
    "Pro zjednodušení budu používat RidgeCV"
   ]
  },
  {
   "cell_type": "code",
   "execution_count": 11,
   "id": "f3fd53da",
   "metadata": {},
   "outputs": [
    {
     "name": "stdout",
     "output_type": "stream",
     "text": [
      "Best alpha for Ridge Regression: 0.1\n",
      "Validation RMSE for Ridge Regression: 4.16\n"
     ]
    }
   ],
   "source": [
    "from sklearn.linear_model import RidgeCV\n",
    "from sklearn.metrics import mean_squared_error\n",
    "from math import sqrt\n",
    "\n",
    "ridge_model = RidgeCV(alphas=[0.1, 1.0, 10.0, 100.0], cv=5)\n",
    "ridge_model.fit(Xtrain_scaled, ytrain)\n",
    "ridge_predictions = ridge_model.predict(Xval_scaled)\n",
    "ridge_rmse = sqrt(mean_squared_error(yval, ridge_predictions))\n",
    "\n",
    "best_alpha = ridge_model.alpha_\n",
    "print(f\"Best alpha for Ridge Regression: {best_alpha}\")\n",
    "print(f\"Validation RMSE for Ridge Regression: {ridge_rmse:.2f}\")"
   ]
  },
  {
   "cell_type": "markdown",
   "id": "f63e8fec",
   "metadata": {},
   "source": [
    "Nízká hodnota **alpha**, jako je 0.1, umožňuje koeficientům být relativně velkými, což přibližuje model k obyčejné lineární regresi. Model s takto nastavenou mírou regulace dosahuje průměrné chyby předpovědi přibližně 4.16 let, což je v kontextu predikce délky dožití poměrně vysoká hodnota."
   ]
  },
  {
   "cell_type": "markdown",
   "id": "aaf617cc",
   "metadata": {},
   "source": [
    "## 3️⃣ Vybraný model: LASSO"
   ]
  },
  {
   "cell_type": "markdown",
   "id": "c8670d72",
   "metadata": {},
   "source": [
    "#### Vhodnost daného modelu pro daný typ úlohy:\n",
    "\n",
    "**Redukce Rozměrnosti**:Pokud máme v datasetu velké množství příznaků, LASSO může pomoci v redukci rozměrnosti tím, že některé koeficienty zredukuje přímo na nulu, což znamená vyloučení některých příznaků z modelu.\n",
    "\n",
    "**Prevence Přetrénování**:Díky regulaci, kterou LASSO poskytuje, je model méně náchylný k přetrénování\n",
    "\n",
    "**Výběr Důležitých Příznaků**: LASSO může být efektivní v identifikaci důležitých příznaků"
   ]
  },
  {
   "cell_type": "markdown",
   "id": "aa582fe9",
   "metadata": {},
   "source": [
    "Pro model LASSO se obvykle doporučuje **standardizace** příznaků, zejména při práci s reálnými daty, jako v našem případě s problémem předpovědi délky života. LASSO penalizuje absolutní hodnoty koeficientů modelu. Bez standardizace by proměnné s většími rozsahy mohly být nespravedlivě penalizovány, což může vést k nesprávné selekci proměnných."
   ]
  },
  {
   "cell_type": "markdown",
   "id": "b8c41c32",
   "metadata": {},
   "source": [
    "Pro zjednodušení budu používat LassoCV"
   ]
  },
  {
   "cell_type": "code",
   "execution_count": 12,
   "id": "61ff502e",
   "metadata": {},
   "outputs": [
    {
     "data": {
      "image/png": "[encoded data removed]",
      "text/plain": [
       "<Figure size 1000x600 with 1 Axes>"
      ]
     },
     "metadata": {},
     "output_type": "display_data"
    },
    {
     "name": "stdout",
     "output_type": "stream",
     "text": [
      "Best alpha for LASSO: 0.00689\n",
      "Validation RMSE for LASSO: 4.17\n"
     ]
    }
   ],
   "source": [
    "from sklearn.linear_model import LassoCV\n",
    "from sklearn.metrics import mean_squared_error\n",
    "import matplotlib.pyplot as plt\n",
    "from math import sqrt\n",
    "\n",
    "lasso_model = LassoCV(cv=5, max_iter=10000)\n",
    "\n",
    "lasso_model.fit(Xtrain_scaled, ytrain)\n",
    "\n",
    "lasso_predictions = lasso_model.predict(Xval_scaled)\n",
    "\n",
    "lasso_rmse = sqrt(mean_squared_error(yval, lasso_predictions))\n",
    "\n",
    "best_alpha = lasso_model.alpha_\n",
    "\n",
    "plt.figure(figsize=(10, 6))\n",
    "plt.plot(lasso_model.coef_, marker='o', linestyle='none')\n",
    "plt.title('LASSO Coefficients')\n",
    "plt.xlabel('Coefficient Index')\n",
    "plt.ylabel('Coefficient Value')\n",
    "plt.axhline(y=0, color='r', linestyle='-')\n",
    "plt.show()\n",
    "\n",
    "print(f\"Best alpha for LASSO: {best_alpha:.5f}\")\n",
    "print(f\"Validation RMSE for LASSO: {lasso_rmse:.2f}\")"
   ]
  },
  {
   "cell_type": "markdown",
   "id": "fe84dc62",
   "metadata": {},
   "source": [
    "Můžeme usoudit, že výkon modelu není zcela uspokojivý pro účely predikce délky dožití. RMSE ve výši 4.17 let naznačuje, že model má relativně velkou průměrnou chybu v predikcích"
   ]
  },
  {
   "cell_type": "markdown",
   "id": "bd5cbea3",
   "metadata": {},
   "source": [
    "# 4️⃣Vyhodnocovací data"
   ]
  },
  {
   "cell_type": "markdown",
   "id": "03672e96",
   "metadata": {},
   "source": [
    "Jako nejlepší model jsem si vybral **`náhodný les`**, protože jeho RMSE bylo nejnižší. Předpokládám, že při použití tohoto modelu na nových datech bude mít RMSE přibližně stejnou hodnotu, jakou měl na validační množině, tedy kolem 2"
   ]
  },
  {
   "cell_type": "markdown",
   "id": "d1e2b6a5",
   "metadata": {},
   "source": [
    "Připravíme nové data:"
   ]
  },
  {
   "cell_type": "code",
   "execution_count": 13,
   "id": "3c8b0718",
   "metadata": {},
   "outputs": [
    {
     "data": {
      "text/plain": [
       "Country                             0\n",
       "Year                                0\n",
       "Status                              0\n",
       "Adult Mortality                     0\n",
       "infant deaths                       0\n",
       "Alcohol                            39\n",
       "percentage expenditure              0\n",
       "Hepatitis B                        23\n",
       "Measles                             0\n",
       "BMI                                 6\n",
       "under-five deaths                   0\n",
       "Polio                               1\n",
       "Total expenditure                  37\n",
       "Diphtheria                          1\n",
       "HIV/AIDS                            0\n",
       "GDP                                42\n",
       "Population                         42\n",
       "thinness  1-19 years                6\n",
       "thinness 5-9 years                  6\n",
       "Income composition of resources    18\n",
       "Schooling                          18\n",
       "dtype: int64"
      ]
     },
     "execution_count": 13,
     "metadata": {},
     "output_type": "execute_result"
    }
   ],
   "source": [
    "evaluation_data = pd.read_csv('evaluation.csv')\n",
    "evaluation_data.isnull().sum()"
   ]
  },
  {
   "cell_type": "markdown",
   "id": "7d35ef08",
   "metadata": {},
   "source": [
    "Zopakujme kroky, které jsme provedli s původním souborem dat, ale uložme sloupec `Country` pro výsledky."
   ]
  },
  {
   "cell_type": "code",
   "execution_count": 14,
   "id": "213beaea",
   "metadata": {},
   "outputs": [
    {
     "name": "stdout",
     "output_type": "stream",
     "text": [
      "<class 'pandas.core.frame.DataFrame'>\n",
      "RangeIndex: 210 entries, 0 to 209\n",
      "Data columns (total 20 columns):\n",
      " #   Column                           Non-Null Count  Dtype  \n",
      "---  ------                           --------------  -----  \n",
      " 0   Year                             210 non-null    int64  \n",
      " 1   Adult Mortality                  210 non-null    float64\n",
      " 2   infant deaths                    210 non-null    int64  \n",
      " 3   Alcohol                          210 non-null    float64\n",
      " 4   percentage expenditure           210 non-null    float64\n",
      " 5   Hepatitis B                      210 non-null    float64\n",
      " 6   Measles                          210 non-null    int64  \n",
      " 7   BMI                              210 non-null    float64\n",
      " 8   under-five deaths                210 non-null    int64  \n",
      " 9   Polio                            210 non-null    float64\n",
      " 10  Total expenditure                210 non-null    float64\n",
      " 11  Diphtheria                       210 non-null    float64\n",
      " 12  HIV/AIDS                         210 non-null    float64\n",
      " 13  GDP                              210 non-null    float64\n",
      " 14  Population                       210 non-null    float64\n",
      " 15  thinness  1-19 years             210 non-null    float64\n",
      " 16  thinness 5-9 years               210 non-null    float64\n",
      " 17  Income composition of resources  210 non-null    float64\n",
      " 18  Schooling                        210 non-null    float64\n",
      " 19  Status_encoded                   210 non-null    int64  \n",
      "dtypes: float64(15), int64(5)\n",
      "memory usage: 32.9 KB\n"
     ]
    }
   ],
   "source": [
    "countries = evaluation_data['Country']\n",
    "\n",
    "evaluation_data.drop(columns=['Country'], inplace=True)\n",
    "\n",
    "mapping = {'Developed': 1, 'Developing': 0}\n",
    "evaluation_data['Status_encoded'] = evaluation_data['Status'].map(mapping)\n",
    "evaluation_data.drop('Status', axis=1, inplace=True)\n",
    "\n",
    "columns_to_fill = ['Alcohol', 'Hepatitis B', 'BMI', 'Polio', 'Total expenditure', \n",
    "                   'Diphtheria', 'GDP', 'Population', 'thinness  1-19 years', \n",
    "                   'thinness 5-9 years', 'Income composition of resources', 'Schooling']\n",
    "\n",
    "for column in columns_to_fill:\n",
    "    median_value = evaluation_data[column].median()\n",
    "    evaluation_data[column].fillna(median_value, inplace=True)\n",
    "    \n",
    "evaluation_data.info()"
   ]
  },
  {
   "cell_type": "markdown",
   "id": "d74d28f9",
   "metadata": {},
   "source": [
    "Nyní použijeme náš model s již dříve nastavenými hyperparametry."
   ]
  },
  {
   "cell_type": "code",
   "execution_count": 15,
   "id": "3a127b6e",
   "metadata": {},
   "outputs": [],
   "source": [
    "model = CustomRandomForest(**best_params)\n",
    "model.fit(Xtrain, ytrain)\n",
    "predicted_life_expectancy = model.predict(evaluation_data)\n",
    "\n",
    "results = pd.DataFrame({\n",
    "    'Country': countries,\n",
    "    'Year': evaluation_data['Year'],\n",
    "    'Life expectancy': predicted_life_expectancy\n",
    "})\n",
    "results.to_csv('results.csv', index=False)"
   ]
  },
  {
   "cell_type": "markdown",
   "id": "ff15a795",
   "metadata": {},
   "source": [
    "Výsledek je uložen do souboru results.csv"
   ]
  }
 ],
 "metadata": {
  "kernelspec": {
   "display_name": "Python 3 (ipykernel)",
   "language": "python",
   "name": "python3"
  },
  "language_info": {
   "codemirror_mode": {
    "name": "ipython",
    "version": 3
   },
   "file_extension": ".py",
   "mimetype": "text/x-python",
   "name": "python",
   "nbconvert_exporter": "python",
   "pygments_lexer": "ipython3",
   "version": "3.8.2"
  }
 },
 "nbformat": 4,
 "nbformat_minor": 5
}
